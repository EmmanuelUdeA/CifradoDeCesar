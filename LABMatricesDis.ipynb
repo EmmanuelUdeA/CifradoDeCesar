{
  "nbformat": 4,
  "nbformat_minor": 0,
  "metadata": {
    "colab": {
      "provenance": [],
      "authorship_tag": "ABX9TyMAXhgUbSTgMp7VQvb4ByNa",
      "include_colab_link": true
    },
    "kernelspec": {
      "name": "python3",
      "display_name": "Python 3"
    },
    "language_info": {
      "name": "python"
    }
  },
  "cells": [
    {
      "cell_type": "markdown",
      "metadata": {
        "id": "view-in-github",
        "colab_type": "text"
      },
      "source": [
        "<a href=\"https://colab.research.google.com/github/EmmanuelUdeA/CifradoDeCesar/blob/main/LABMatricesDis.ipynb\" target=\"_parent\"><img src=\"https://colab.research.google.com/assets/colab-badge.svg\" alt=\"Open In Colab\"/></a>"
      ]
    },
    {
      "cell_type": "code",
      "execution_count": null,
      "metadata": {
        "id": "h1aXu1OsRYlt"
      },
      "outputs": [],
      "source": [
        "ximport numpy as np\n",
        "import matplotlib.pyplot as plt\n",
        "import bisect\n"
      ]
    },
    {
      "cell_type": "code",
      "source": [
        "# LABORATORIO SPARSE MATRIX LOGICA 2 2023-1 UDEA\n",
        "# REALIZADO POR EMMANUEL BUSTAMANTE VALBUENA"
      ],
      "metadata": {
        "id": "zeDac-nZD3Ws"
      },
      "execution_count": null,
      "outputs": []
    },
    {
      "cell_type": "code",
      "source": [
        "#------------------------#"
      ],
      "metadata": {
        "id": "ELuEv7DnB4qN"
      },
      "execution_count": null,
      "outputs": []
    },
    {
      "cell_type": "code",
      "source": [
        "#LABORATORIO 3\n",
        "\n",
        "#1 Diccionario de Diccionarios\n",
        "\n",
        "def add_to_dict(d, key1, key2, val):\n",
        "\n",
        "    if key1 not in d:\n",
        "        d[key1] = {}\n",
        "    d[key1][key2] = val\n",
        "\n",
        "    return d"
      ],
      "metadata": {
        "id": "fdaEJXwyB40p"
      },
      "execution_count": null,
      "outputs": []
    },
    {
      "cell_type": "code",
      "source": [
        "d = {}\n",
        "add_to_dict(d, 10, 3,  \"20\")\n",
        "add_to_dict(d, 1, 5,  \"4\")\n",
        "add_to_dict(d, 1, 2, \"14\")\n",
        "print(d)"
      ],
      "metadata": {
        "id": "PxRl2mtLFz8m",
        "outputId": "e9bd5f95-aed9-4aae-db3b-22431af2a9a7",
        "colab": {
          "base_uri": "https://localhost:8080/"
        }
      },
      "execution_count": null,
      "outputs": [
        {
          "output_type": "stream",
          "name": "stdout",
          "text": [
            "{10: {3: '20'}, 1: {5: '4', 2: '14'}}\n"
          ]
        }
      ]
    },
    {
      "cell_type": "code",
      "source": [
        "# 2. Implementar el constructor y el metodo para llenar una matriz\n",
        "\n",
        "\n",
        "def SparseMatrix2(m=None, **kwargs):\n",
        "\n",
        "    import itertools\n",
        "\n",
        "    def add_to_dict(d, key1, key2, val):\n",
        "\n",
        "        if key1 not in d:\n",
        "            d[key1] = {}\n",
        "        d[key1][key2] = val\n",
        "        return d\n",
        "\n",
        "\n",
        "    class SparseMatrix2_class:\n",
        "\n",
        "        def __init__(self, m=m, **kwargs):\n",
        "            self.rows = {} # diccionario de entradas no nulas de la matriz\n",
        "            self.shape = (0,0)  # define el tamaño de la matriz\n",
        "            if m is not None: # si m no es nula. m es la matriz y se le agregan los valores\n",
        "              for i,j in itertools.product(range(m.shape[0]),range(m.shape[1])):\n",
        "                if m[i,j] != 0:# Si el valor es distinto de 0 se agrega a la matriz\n",
        "                    add_to_dict(self.rows, i, j, m[i, j])\n",
        "                    self.shape = (max(self.shape[0], i + 1), max(self.shape[1], j + 1))\n",
        "                    #Se actualiza la matriz\n",
        "\n",
        "\n",
        "        def sparseness_metric(self): # Metrica de una matriz, la cantidad de valores no nules, divido numero total de elementos\n",
        "\n",
        "            #self.shape[0] * self.shape[1] # numero total de elementos\n",
        "            metric = 1 - len(self.rows) / (self.shape[0] * self.shape[1]) # calculo de la metrica, el 1 es una buena practica de python para que el numero sea un punto flotante\n",
        "            return metric\n",
        "\n",
        "    return SparseMatrix2_class(**kwargs)"
      ],
      "metadata": {
        "id": "9BXK6zX_GIMT"
      },
      "execution_count": null,
      "outputs": []
    },
    {
      "cell_type": "code",
      "source": [
        "import numpy as np\n",
        "\n",
        "def random_sparse_matrix(size):\n",
        "    m = np.random.randint(2, size=size)\n",
        "    m = m * np.random.randint(10,size=size)\n",
        "    return m\n",
        "\n",
        "m = random_sparse_matrix((5,3))\n",
        "\n",
        "sm = SparseMatrix2(m)\n",
        "print(m.shape, sm.sparseness_metric())\n",
        "m\n",
        "\n",
        "\n"
      ],
      "metadata": {
        "id": "HgZVi9cFkNlb",
        "colab": {
          "base_uri": "https://localhost:8080/"
        },
        "outputId": "0d78a256-579e-47c2-9e00-6a68d3b5ea26"
      },
      "execution_count": null,
      "outputs": [
        {
          "output_type": "stream",
          "name": "stdout",
          "text": [
            "(5, 3) 0.7333333333333334\n"
          ]
        },
        {
          "output_type": "execute_result",
          "data": {
            "text/plain": [
              "array([[0, 0, 1],\n",
              "       [1, 0, 6],\n",
              "       [3, 0, 0],\n",
              "       [0, 0, 0],\n",
              "       [2, 3, 6]])"
            ]
          },
          "metadata": {},
          "execution_count": 8
        }
      ]
    },
    {
      "cell_type": "code",
      "source": [
        "s = SparseMatrix2(m)\n",
        "print(\"rows\", s.rows) # escribimos por filas\n",
        "print(\"length of each row\", [len(s.rows[i]) for i in list(s.rows.keys())]) # vector con la cantidad de elementos de las filas"
      ],
      "metadata": {
        "id": "HJkEMuJckQ0k",
        "colab": {
          "base_uri": "https://localhost:8080/"
        },
        "outputId": "bb842299-dfca-4910-b24e-9043a02732d9"
      },
      "execution_count": null,
      "outputs": [
        {
          "output_type": "stream",
          "name": "stdout",
          "text": [
            "rows {0: {2: 1}, 1: {0: 1, 2: 6}, 2: {0: 3}, 4: {0: 2, 1: 3, 2: 6}}\n",
            "length of each row [1, 2, 1, 3]\n"
          ]
        }
      ]
    },
    {
      "cell_type": "code",
      "source": [
        "s = SparseMatrix2(None)\n",
        "s.shape"
      ],
      "metadata": {
        "id": "78YpHzvLkdeI",
        "colab": {
          "base_uri": "https://localhost:8080/"
        },
        "outputId": "375ac207-ff74-402f-822c-30754eaa66e4"
      },
      "execution_count": null,
      "outputs": [
        {
          "output_type": "execute_result",
          "data": {
            "text/plain": [
              "(0, 0)"
            ]
          },
          "metadata": {},
          "execution_count": 10
        }
      ]
    },
    {
      "cell_type": "code",
      "source": [
        "# 3. Implementar metodo sense y Transpuesta\n",
        "\n",
        "def SparseMatrix3(m=None, **kwargs):\n",
        "\n",
        "    import itertools\n",
        "    import numpy as np\n",
        "\n",
        "    def add_to_dict(d, key1, key2, val):\n",
        "        if key1 not in d:\n",
        "            d[key1] = {}\n",
        "        d[key1][key2] = val\n",
        "        return d\n",
        "\n",
        "    class SparseMatrix3_class:\n",
        "\n",
        "        def __init__(self, m=m, **kwargs):\n",
        "            self.rows = {} # diccionario de entradas no nulas de la matriz\n",
        "            self.shape = (0,0)  # define el tamaño de la matriz\n",
        "            if m is not None: # si m no es nula. m es la matriz y se le agregan los valores\n",
        "                for i,j in itertools.product(range(m.shape[0]),range(m.shape[1])):\n",
        "                    self.rows[i, j] = m[i, j]\n",
        "                    self.shape = (max(self.shape[0], i + 1), max(self.shape[0], j + 1))\n",
        "\n",
        "        def to_dense(self):\n",
        "            r = np.zeros(self.shape)  # se llena la matriz de ceros\n",
        "            for i, row in self.rows.items():  # se recorren las filas\n",
        "              if isinstance(row, dict):\n",
        "                for j, val in row.items():  # se recorren las columnas no nulas de la fila i\n",
        "                    r[i, j] = val  # se agrega el valor en la posicion correspondiente\n",
        "\n",
        "            return r\n",
        "\n",
        "\n",
        "\n",
        "        def T(self):\n",
        "            r = self.__class__(m=None)  # se crea el objeto sin argumentos\n",
        "            for i, row in self.rows.items():  # se recorren las filas\n",
        "                for j, val in row.items():  # se recorren las columnas\n",
        "                    add_to_dict(r.rows, j, i, val)  # se agrega el valor transpuesto a la posicion correspondiente\n",
        "                    r.shape = (max(r.shape[0], j + 1), max(r.shape[1], i + 1))  # se actualiza la forma de la matriz transpuesta\n",
        "            return r\n",
        "\n",
        "\n",
        "\n",
        "    return SparseMatrix3_class(**kwargs)"
      ],
      "metadata": {
        "id": "-TGp7EfwP7z9"
      },
      "execution_count": null,
      "outputs": []
    },
    {
      "cell_type": "code",
      "source": [
        "import numpy as np\n",
        "\n",
        "def random_sparse_matrix(size):\n",
        "    m = np.random.randint(2, size=size)\n",
        "    m = m * np.random.randint(15,size=size)\n",
        "    return m\n",
        "\n",
        "m = random_sparse_matrix((5,3)) # Filas, columnas\n",
        "s = SparseMatrix3(m)\n",
        "\n",
        "print(m)\n"
      ],
      "metadata": {
        "id": "yBF6S4iCEJoe",
        "colab": {
          "base_uri": "https://localhost:8080/"
        },
        "outputId": "052dbb32-829b-478a-c53c-aa837422d92d"
      },
      "execution_count": null,
      "outputs": [
        {
          "output_type": "stream",
          "name": "stdout",
          "text": [
            "[[ 3  6  2]\n",
            " [ 5  0 14]\n",
            " [11 11  4]\n",
            " [11  0  5]\n",
            " [ 0  1  0]]\n"
          ]
        }
      ]
    },
    {
      "cell_type": "code",
      "source": [
        "# 4. Método getitem\n",
        "\n",
        "def SparseMatrix4(m=None, **kwargs):\n",
        "\n",
        "    import itertools\n",
        "\n",
        "    def add_to_dict(d, key1, key2, val):\n",
        "        if key1 not in d:\n",
        "            d[key1] = {}\n",
        "        d[key1][key2] = val\n",
        "        return d\n",
        "\n",
        "    class SparseMatrix4_class:\n",
        "\n",
        "        def __init__(self, m=m, **kwargs):\n",
        "            self.rows = {} # diccionario de entradas no nulas de la matriz\n",
        "            self.shape = (0,0)  # define el tamaño de la matriz\n",
        "            if m is not None: # si m no es nula. m es la matriz y se le agregan los valores\n",
        "                for i,j in itertools.product(range(m.shape[0]),range(m.shape[1])):\n",
        "                    self.rows[i, j] = m[i, j]\n",
        "                    self.shape = (max(self.shape[0], i + 1), max(self.shape[1], j + 1))\n",
        "\n",
        "        def __getitem__(self, pos):\n",
        "            i,j = pos\n",
        "            assert isinstance(i, int) and isinstance(j, int), \"Invalid index type\"\n",
        "            if 0 <= i < self.shape[0] and 0 <= j < self.shape[1]:\n",
        "                return self.rows.get((i, j), 0)\n",
        "            else:\n",
        "                return 0\n",
        "\n",
        "    return SparseMatrix4_class(**kwargs)"
      ],
      "metadata": {
        "id": "GgZI93TJQIM9"
      },
      "execution_count": null,
      "outputs": []
    },
    {
      "cell_type": "code",
      "source": [
        "def random_sparse_matrix(size):\n",
        "    m = np.random.randint(2, size=size)\n",
        "    m = m * np.random.randint(10,size=size)\n",
        "    return m\n",
        "\n",
        "m = random_sparse_matrix((5,3))\n",
        "\n",
        "print(\"original matrix shape\", m.shape)\n",
        "print(m)"
      ],
      "metadata": {
        "id": "4yCfICTNNmHh",
        "colab": {
          "base_uri": "https://localhost:8080/"
        },
        "outputId": "80bf035e-d237-4f64-b645-d32ac109a3c6"
      },
      "execution_count": null,
      "outputs": [
        {
          "output_type": "stream",
          "name": "stdout",
          "text": [
            "original matrix shape (5, 3)\n",
            "[[0 0 9]\n",
            " [8 0 0]\n",
            " [8 0 4]\n",
            " [7 5 0]\n",
            " [1 4 0]]\n"
          ]
        }
      ]
    },
    {
      "cell_type": "code",
      "source": [
        "import itertools\n",
        "\n",
        "s = SparseMatrix4(m)\n",
        "\n",
        "print(\"inner dict\", s.rows)\n",
        "print(\"\\ncoord   value_in_m       value_in_s\")\n",
        "for i,j in itertools.product(list(range(m.shape[0])), list(range(m.shape[1]))):\n",
        "    print(\"(%d,%d)   %5d        %5d\"%(i,j, m[i,j], s[i,j]))"
      ],
      "metadata": {
        "id": "awIKG66wNuBE",
        "colab": {
          "base_uri": "https://localhost:8080/"
        },
        "outputId": "604a67dd-38c0-4016-b596-e68a92ebd207"
      },
      "execution_count": null,
      "outputs": [
        {
          "output_type": "stream",
          "name": "stdout",
          "text": [
            "inner dict {(0, 0): 0, (0, 1): 0, (0, 2): 9, (1, 0): 8, (1, 1): 0, (1, 2): 0, (2, 0): 8, (2, 1): 0, (2, 2): 4, (3, 0): 7, (3, 1): 5, (3, 2): 0, (4, 0): 1, (4, 1): 4, (4, 2): 0}\n",
            "\n",
            "coord   value_in_m       value_in_s\n",
            "(0,0)       0            0\n",
            "(0,1)       0            0\n",
            "(0,2)       9            9\n",
            "(1,0)       8            8\n",
            "(1,1)       0            0\n",
            "(1,2)       0            0\n",
            "(2,0)       8            8\n",
            "(2,1)       0            0\n",
            "(2,2)       4            4\n",
            "(3,0)       7            7\n",
            "(3,1)       5            5\n",
            "(3,2)       0            0\n",
            "(4,0)       1            1\n",
            "(4,1)       4            4\n",
            "(4,2)       0            0\n"
          ]
        }
      ]
    },
    {
      "cell_type": "code",
      "source": [
        "# 5. Método Setitem\n",
        "\n",
        "def SparseMatrix5(m=None,**kwargs):\n",
        "\n",
        "    import itertools\n",
        "    import numpy as np\n",
        "\n",
        "    def add_to_dict(d, key1, key2, val):\n",
        "        if key1 not in d:\n",
        "            d[key1] = {}\n",
        "        d[key1][key2] = val\n",
        "        return d\n",
        "\n",
        "    class SparseMatrix5_class:\n",
        "\n",
        "        def __init__(self, m=m, **kwargs):\n",
        "            self.rows = {} # diccionario de entradas no nulas de la matriz\n",
        "            self.shape = (0,0)  # define el tamaño de la matriz\n",
        "            if m is not None: # si m no es nula. m es la matriz y se le agregan los valores\n",
        "              for i,j in itertools.product(range(m.shape[0]),range(m.shape[1])):\n",
        "                if m[i,j] != 0:\n",
        "                    add_to_dict(self.rows, i, j, m[i, j])\n",
        "                    self.shape = (max(self.shape[0], i + 1), max(self.shape[1], j + 1))\n",
        "\n",
        "        def __setitem__(self, pos, val):\n",
        "          i, j = pos\n",
        "          assert isinstance(i, int) and isinstance(j, int), \"Invalid index type\"\n",
        "          if 0 <= i < self.shape[0] and 0 <= j < self.shape[1]:\n",
        "              if val != 0:\n",
        "                  add_to_dict(self.rows, i, j, val)\n",
        "              elif (i, j) in self.rows:\n",
        "                  del self.rows[(i, j)]\n",
        "          else:\n",
        "              raise IndexError(\"Index out of range\")\n",
        "\n",
        "        def __getitem__(self, pos):\n",
        "            i,j = pos\n",
        "            assert isinstance(i, int) and isinstance(j, int), \"Invalid index type\"\n",
        "            if 0 <= i < self.shape[0] and 0 <= j < self.shape[1]:\n",
        "                return self.rows.get((i, j), 0)\n",
        "            else:\n",
        "                return 0\n",
        "\n",
        "        def to_dense(self):\n",
        "            r = np.zeros(self.shape)  # se llena la matriz de ceros\n",
        "            for i, row in self.rows.items():  # se recorren las filas\n",
        "                for j, val in row.items():  # se recorren las columnas no nulas de la fila i\n",
        "                    r[i, j] = val  # se agrega el valor en la posicion correspondiente\n",
        "            return r\n",
        "\n",
        "    return SparseMatrix5_class(**kwargs)"
      ],
      "metadata": {
        "id": "H1zHupQOQRmx"
      },
      "execution_count": null,
      "outputs": []
    },
    {
      "cell_type": "code",
      "source": [
        "def random_sparse_matrix(size):\n",
        "    m = np.random.randint(2, size=size)\n",
        "    m = m * np.random.randint(10,size=size)\n",
        "    return m\n",
        "\n",
        "m = random_sparse_matrix((10,7))\n",
        "s = SparseMatrix5(m)\n",
        "print(\"initial\")\n",
        "print(s.rows)\n",
        "print(s.to_dense().astype(int))\n",
        "s[4,2] = m[4,2]*2+3\n",
        "print(\"\\nafter __setitem__\")\n",
        "print(s.rows)\n",
        "print(s.to_dense().astype(int))"
      ],
      "metadata": {
        "id": "ncvyL6_GU-s7",
        "colab": {
          "base_uri": "https://localhost:8080/"
        },
        "outputId": "b5053d55-7685-463a-d13c-89ab277bb470"
      },
      "execution_count": null,
      "outputs": [
        {
          "output_type": "stream",
          "name": "stdout",
          "text": [
            "initial\n",
            "{0: {3: 7, 4: 8, 6: 3}, 1: {1: 8, 4: 1, 5: 2, 6: 1}, 2: {0: 2, 3: 8, 4: 8, 6: 1}, 3: {1: 2, 3: 1, 4: 6}, 4: {1: 6, 2: 3, 4: 4}, 5: {0: 1, 1: 1, 2: 4}, 6: {2: 7, 4: 8, 6: 7}, 7: {0: 4, 1: 1, 2: 3, 4: 3}, 8: {0: 7, 2: 4, 4: 1}, 9: {2: 5, 4: 9}}\n",
            "[[0 0 0 7 8 0 3]\n",
            " [0 8 0 0 1 2 1]\n",
            " [2 0 0 8 8 0 1]\n",
            " [0 2 0 1 6 0 0]\n",
            " [0 6 3 0 4 0 0]\n",
            " [1 1 4 0 0 0 0]\n",
            " [0 0 7 0 8 0 7]\n",
            " [4 1 3 0 3 0 0]\n",
            " [7 0 4 0 1 0 0]\n",
            " [0 0 5 0 9 0 0]]\n",
            "\n",
            "after __setitem__\n",
            "{0: {3: 7, 4: 8, 6: 3}, 1: {1: 8, 4: 1, 5: 2, 6: 1}, 2: {0: 2, 3: 8, 4: 8, 6: 1}, 3: {1: 2, 3: 1, 4: 6}, 4: {1: 6, 2: 9, 4: 4}, 5: {0: 1, 1: 1, 2: 4}, 6: {2: 7, 4: 8, 6: 7}, 7: {0: 4, 1: 1, 2: 3, 4: 3}, 8: {0: 7, 2: 4, 4: 1}, 9: {2: 5, 4: 9}}\n",
            "[[0 0 0 7 8 0 3]\n",
            " [0 8 0 0 1 2 1]\n",
            " [2 0 0 8 8 0 1]\n",
            " [0 2 0 1 6 0 0]\n",
            " [0 6 9 0 4 0 0]\n",
            " [1 1 4 0 0 0 0]\n",
            " [0 0 7 0 8 0 7]\n",
            " [4 1 3 0 3 0 0]\n",
            " [7 0 4 0 1 0 0]\n",
            " [0 0 5 0 9 0 0]]\n"
          ]
        }
      ]
    },
    {
      "cell_type": "code",
      "source": [
        "#6 Implementar método add\n",
        "\n",
        "def SparseMatrix6(m=None,**kwargs):\n",
        "\n",
        "    import itertools\n",
        "    import numpy as np\n",
        "    def add_to_dict(d, key1, key2, val):\n",
        "        if key1 not in d:\n",
        "            d[key1] = {}\n",
        "        d[key1][key2] = val\n",
        "        return d\n",
        "\n",
        "    class SparseMatrix6_class:\n",
        "\n",
        "        def __init__(self, m=m, **kwargs):\n",
        "            self.rows = {} # diccionario de entradas no nulas de la matriz\n",
        "            self.shape = (0,0)  # define el tamaño de la matriz\n",
        "            if m is not None: # si m no es nula. m es la matriz y se le agregan los valores\n",
        "              for i,j in itertools.product(range(m.shape[0]),range(m.shape[1])):\n",
        "                if m[i,j] != 0:\n",
        "                    add_to_dict(self.rows, i, j, m[i, j])\n",
        "                    self.shape = (max(self.shape[0], i + 1), max(self.shape[1], j + 1))\n",
        "\n",
        "        def to_dense(self):\n",
        "            r = np.zeros(self.shape)  # se llena la matriz de ceros\n",
        "            for i, row in self.rows.items():  # se recorren las filas\n",
        "                for j, val in row.items():  # se recorren las columnas no nulas de la fila i\n",
        "                    r[i, j] = val  # se agrega el valor en la posicion correspondiente\n",
        "            return r\n",
        "\n",
        "        def __getitem__(self, pos):\n",
        "            i,j = pos\n",
        "            assert isinstance(i, int) and isinstance(j, int), \"Invalid index type\"\n",
        "            if 0 <= i < self.shape[0] and 0 <= j < self.shape[1]:\n",
        "                return self.rows.get((i, j), 0)\n",
        "            else:\n",
        "                return 0\n",
        "\n",
        "        def __setitem__(self, pos, val):\n",
        "          i, j = pos\n",
        "          assert isinstance(i, int) and isinstance(j, int), \"Invalid index type\"\n",
        "          if 0 <= i < self.shape[0] and 0 <= j < self.shape[1]:\n",
        "              if val != 0:\n",
        "                  add_to_dict(self.rows, i, j, val)\n",
        "              elif (i, j) in self.rows:\n",
        "                  del self.rows[(i, j)]\n",
        "          else:\n",
        "              raise IndexError(\"Index out of range\")\n",
        "\n",
        "        def __add__ (self, q):\n",
        "            assert self.shape == q.shape, \"Matrices must be of same shape\"\n",
        "            r = self.__class__(m=None)\n",
        "            r.shape = self.shape\n",
        "            for i, row in self.rows.items():\n",
        "                  for j, val in row.items():\n",
        "                      r[i, j] = val\n",
        "            for i, row in q.rows.items():\n",
        "                  for j, val in row.items():\n",
        "                      r[i, j] += val\n",
        "            return r\n",
        "\n",
        "    return SparseMatrix6_class(**kwargs)"
      ],
      "metadata": {
        "id": "zZHynCi-Qa2A"
      },
      "execution_count": null,
      "outputs": []
    },
    {
      "cell_type": "code",
      "source": [
        "import numpy as np\n",
        "m1, m2 = random_sparse_matrix((5,3)), random_sparse_matrix((5,3))\n",
        "sm1 = SparseMatrix6(m1)\n",
        "sm2 = SparseMatrix6(m2)\n",
        "print(sm1.to_dense().astype(int))\n",
        "print(\"--\")\n",
        "print(sm2.to_dense().astype(int))"
      ],
      "metadata": {
        "id": "7DwAihW8aBzB",
        "colab": {
          "base_uri": "https://localhost:8080/"
        },
        "outputId": "4e03b5f7-8476-46d7-9a95-ffa6bcb51946"
      },
      "execution_count": null,
      "outputs": [
        {
          "output_type": "stream",
          "name": "stdout",
          "text": [
            "[[0 6 3]\n",
            " [0 6 0]\n",
            " [0 2 0]\n",
            " [7 0 0]\n",
            " [5 3 0]]\n",
            "--\n",
            "[[0 0 0]\n",
            " [0 0 0]\n",
            " [0 0 9]\n",
            " [6 0 7]\n",
            " [0 0 8]]\n"
          ]
        }
      ]
    },
    {
      "cell_type": "code",
      "source": [
        "print((sm1+sm2).to_dense().astype(int))"
      ],
      "metadata": {
        "id": "AB4z6EZaaD_8",
        "colab": {
          "base_uri": "https://localhost:8080/"
        },
        "outputId": "461ab2d2-75cf-4a2c-ba96-b8b531b3df75"
      },
      "execution_count": null,
      "outputs": [
        {
          "output_type": "stream",
          "name": "stdout",
          "text": [
            "[[0 4 0]\n",
            " [6 4 0]\n",
            " [8 8 5]\n",
            " [6 2 5]\n",
            " [4 0 3]]\n"
          ]
        }
      ]
    },
    {
      "cell_type": "code",
      "source": [
        "print(m1+m2)"
      ],
      "metadata": {
        "id": "-k_rcAEbaGDr",
        "colab": {
          "base_uri": "https://localhost:8080/"
        },
        "outputId": "ff6992ba-1475-488b-b137-0f4f0a613d2c"
      },
      "execution_count": null,
      "outputs": [
        {
          "output_type": "stream",
          "name": "stdout",
          "text": [
            "[[ 0 11  0]\n",
            " [ 7  4  0]\n",
            " [ 8 13  5]\n",
            " [ 7  2  5]\n",
            " [ 4  0  3]]\n"
          ]
        }
      ]
    },
    {
      "cell_type": "code",
      "source": [
        "#7. Implementacion del dot\n",
        "\n",
        "def SparseMatrix7(m=None,**kwargs):\n",
        "\n",
        "    import itertools\n",
        "    import numpy as np\n",
        "    def add_to_dict(d, key1, key2, val):\n",
        "        if key1 not in d:\n",
        "            d[key1] = {}\n",
        "        d[key1][key2] = val\n",
        "        return d\n",
        "\n",
        "    class SparseMatrix7_class:\n",
        "\n",
        "        def __init__(self, m=m, **kwargs):\n",
        "            self.rows = {} # diccionario de entradas no nulas de la matriz\n",
        "            self.shape = (0,0)  # define el tamaño de la matriz\n",
        "            if m is not None: # si m no es nula. m es la matriz y se le agregan los valores\n",
        "              for i,j in itertools.product(range(m.shape[0]),range(m.shape[1])):\n",
        "                if m[i,j] != 0:\n",
        "                    add_to_dict(self.rows, i, j, m[i, j])\n",
        "                    self.shape = (max(self.shape[0], i + 1), max(self.shape[1], j + 1))\n",
        "\n",
        "        def to_dense(self):\n",
        "            r = np.zeros(self.shape)  # se llena la matriz de ceros\n",
        "            for i, row in self.rows.items():  # se recorren las filas\n",
        "                for j, val in row.items():  # se recorren las columnas no nulas de la fila i\n",
        "                    r[i, j] = val  # se agrega el valor en la posicion correspondiente\n",
        "            return r\n",
        "\n",
        "        def __getitem__(self, pos):\n",
        "            i,j = pos\n",
        "            assert isinstance(i, int) and isinstance(j, int), \"Invalid index type\"\n",
        "            if 0 <= i < self.shape[0] and 0 <= j < self.shape[1]:\n",
        "                return self.rows.get((i, j), 0)\n",
        "            else:\n",
        "                return 0\n",
        "\n",
        "        def __setitem__(self, pos, val):\n",
        "          i, j = pos\n",
        "          assert isinstance(i, int) and isinstance(j, int), \"Invalid index type\"\n",
        "          if 0 <= i < self.shape[0] and 0 <= j < self.shape[1]:\n",
        "              if val != 0:\n",
        "                  add_to_dict(self.rows, i, j, val)\n",
        "              elif (i, j) in self.rows:\n",
        "                  del self.rows[(i, j)]\n",
        "          else:\n",
        "              raise IndexError(\"Index out of range\")\n",
        "\n",
        "        def __add__ (self, q):\n",
        "            assert self.shape == q.shape, \"Matrices must be of same shape\"\n",
        "            r = self.__class__(m=None)\n",
        "            r.shape = self.shape\n",
        "            for i, row in self.rows.items():\n",
        "                  for j, val in row.items():\n",
        "                      r[i, j] = val\n",
        "            for i, row in q.rows.items():\n",
        "                  for j, val in row.items():\n",
        "                      r[i, j] += val\n",
        "            return r\n",
        "\n",
        "        def dot(self, q):\n",
        "            assert self.shape[1] == q.shape[0], \"Incompatible shapes\"\n",
        "\n",
        "            r = self.__class__(m=None)\n",
        "            r.shape = (self.shape[0], q.shape[1])\n",
        "\n",
        "            for i in range(self.shape[0]):\n",
        "                for j in range(q.shape[1]):\n",
        "                    r[i,j] = sum(self[i,k]*q[k,j] for k in range(self.shape[1]))\n",
        "\n",
        "\n",
        "            return r\n",
        "\n",
        "        def sparseness_metric(self):\n",
        "            metric = 1 - len(self.rows) / (self.shape[0] * self.shape[1]) # calculo de la metrica, el 1 es una buena practica de python para que el numero sea un punto flotante\n",
        "            return metric\n",
        "\n",
        "        def T(self):\n",
        "            r = self.__class__(m=None)  # se crea el objeto sin argumentos\n",
        "            for i, row in self.rows.items():  # se recorren las filas\n",
        "                for j, val in row.items():  # se recorren las columnas\n",
        "                    add_to_dict(r.rows, j, i, val)  # se agrega el valor transpuesto a la posicion correspondiente\n",
        "                    r.shape = (max(r.shape[0], j + 1), max(r.shape[1], i + 1))  # se actualiza la forma de la matriz transpuesta\n",
        "            return r\n",
        "\n",
        "    return SparseMatrix7_class(**kwargs)"
      ],
      "metadata": {
        "id": "kexZoTPnQjDQ"
      },
      "execution_count": null,
      "outputs": []
    },
    {
      "cell_type": "code",
      "source": [
        "import numpy as np\n",
        "m1 = np.random.randint(10, size=(3,2))\n",
        "print (m1)\n",
        "print(\"----\")\n",
        "m2 = np.random.randint(10, size=(2,3))\n",
        "print (m2)\n",
        "print (\"-- \")\n",
        "print (m1.dot(m2))\n",
        "print(\"---\")\n",
        "s1 = SparseMatrix7(m1)\n",
        "print(\"----\")\n",
        "\n",
        "s2 = SparseMatrix7(m2)\n",
        "print(\"---\")\n",
        "\n",
        "print (s1.dot(s2).to_dense().astype(int))\n",
        "print (\"--\")\n",
        "print (m2.dot(m1))\n",
        "print (\"--\")\n",
        "print (s2.dot(s1).to_dense().astype(int))"
      ],
      "metadata": {
        "id": "PPiSG80kNyei",
        "colab": {
          "base_uri": "https://localhost:8080/"
        },
        "outputId": "1dba21aa-3422-4cd3-c309-79b358f754e0"
      },
      "execution_count": null,
      "outputs": [
        {
          "output_type": "stream",
          "name": "stdout",
          "text": [
            "[[9 7]\n",
            " [6 2]\n",
            " [9 7]]\n",
            "----\n",
            "[[2 0 3]\n",
            " [9 5 0]]\n",
            "-- \n",
            "[[81 35 27]\n",
            " [30 10 18]\n",
            " [81 35 27]]\n",
            "---\n",
            "----\n",
            "---\n",
            "[[0 0 0]\n",
            " [0 0 0]\n",
            " [0 0 0]]\n",
            "--\n",
            "[[ 45  35]\n",
            " [111  73]]\n",
            "--\n",
            "[[0 0]\n",
            " [0 0]]\n"
          ]
        }
      ]
    },
    {
      "cell_type": "code",
      "source": [
        "#8. algoritmo que devuelva el valor máximo de cada fila.\n",
        "\n",
        "\n",
        "def max_per_row(m):\n",
        "    import numpy as np\n",
        "    max_vals = {} # diccionario para almacenar el valor máximo y su índice de fila\n",
        "    for (i,j), val in m.rows.items(): # iterar a través de los elementos no nulos de la matriz\n",
        "        if i in max_vals: # si la fila ya ha sido encontrada, comparar con el valor máximo actual\n",
        "            if val > max_vals[i][0]:\n",
        "                max_vals[i] = (val, j)\n",
        "        else:\n",
        "            max_vals[i] = (val, j) # agregar nueva fila al diccionario\n",
        "\n",
        "    return [(i, val[0]) for i,val in max_vals.items()] # devolver lista de tuplas de índices de fila y valor máximo\n",
        ""
      ],
      "metadata": {
        "id": "WXgDtIocQpjd"
      },
      "execution_count": null,
      "outputs": []
    },
    {
      "cell_type": "code",
      "source": [
        "m = random_sparse_matrix((10,4))\n",
        "s = SparseMatrix3(m)\n",
        "print(m)\n",
        "print(max_per_row(s))"
      ],
      "metadata": {
        "id": "bxs5ZAc1UQag",
        "colab": {
          "base_uri": "https://localhost:8080/"
        },
        "outputId": "f932bc0b-3eda-4d9a-a0ae-551074754f52"
      },
      "execution_count": null,
      "outputs": [
        {
          "output_type": "stream",
          "name": "stdout",
          "text": [
            "[[9 8 9 0]\n",
            " [2 0 0 0]\n",
            " [0 9 0 6]\n",
            " [0 0 8 0]\n",
            " [0 0 7 2]\n",
            " [0 0 0 0]\n",
            " [0 1 0 9]\n",
            " [1 0 8 9]\n",
            " [8 2 0 2]\n",
            " [0 3 0 7]]\n",
            "[(0, 9), (1, 2), (2, 9), (3, 8), (4, 7), (5, 0), (6, 9), (7, 9), (8, 8), (9, 7)]\n"
          ]
        }
      ]
    },
    {
      "cell_type": "code",
      "source": [
        "mm = m.max(axis=1)\n",
        "w = np.argwhere(mm!=0)[:,0]\n",
        "np.allclose(np.r_[[(i,j) for i,j in zip(w, mm[w])]], np.r_[max_per_row(s)])"
      ],
      "metadata": {
        "id": "DdnW0APsXO_F",
        "colab": {
          "base_uri": "https://localhost:8080/"
        },
        "outputId": "bb9b6b33-1c47-41ab-e101-8ae0d576101c"
      },
      "execution_count": null,
      "outputs": [
        {
          "output_type": "execute_result",
          "data": {
            "text/plain": [
              "True"
            ]
          },
          "metadata": {},
          "execution_count": 35
        }
      ]
    },
    {
      "cell_type": "code",
      "source": [
        "def max_per_col(m):\n",
        "    max_vals = {}\n",
        "    for (i, j), val in m.rows.items():\n",
        "        if j not in max_vals or val > max_vals[j]:\n",
        "            max_vals[j] = val\n",
        "    return [(j, val) for j, val in max_vals.items()]\n",
        ""
      ],
      "metadata": {
        "id": "EV6nsn_YQynd"
      },
      "execution_count": null,
      "outputs": []
    },
    {
      "cell_type": "code",
      "source": [
        "m = SparseMatrix3(random_sparse_matrix((3,10)))\n",
        "print(\"Matriz dispersa:\")\n",
        "for i in range(m.shape[0]):\n",
        "    for j in range(m.shape[1]):\n",
        "        if (i,j) in m.rows:\n",
        "            print(m.rows[i,j], end=\"\\t\")\n",
        "        else:\n",
        "            print(0, end=\"\\t\")\n",
        "    print()\n",
        "\n",
        "print(\"--------\")\n",
        "\n",
        "print (m.to_dense().astype(int))\n",
        "\n",
        "print(\"--------\")\n",
        "\n",
        "print(\"Valores máximos de cada columna:\")\n",
        "print(max_per_col(m))"
      ],
      "metadata": {
        "colab": {
          "base_uri": "https://localhost:8080/"
        },
        "id": "wriq31U9h0NZ",
        "outputId": "dadde50c-eb95-470e-b287-1a3ca9313f20"
      },
      "execution_count": null,
      "outputs": [
        {
          "output_type": "stream",
          "name": "stdout",
          "text": [
            "Matriz dispersa:\n",
            "5\t9\t0\t0\t0\t10\t14\t7\t1\t0\t\n",
            "8\t6\t1\t12\t0\t7\t0\t0\t12\t11\t\n",
            "0\t0\t0\t2\t9\t7\t5\t0\t5\t0\t\n",
            "--------\n",
            "[[0 0 0 0 0 0 0 0 0 0]\n",
            " [0 0 0 0 0 0 0 0 0 0]\n",
            " [0 0 0 0 0 0 0 0 0 0]]\n",
            "--------\n",
            "Valores máximos de cada columna:\n",
            "[(0, 8), (1, 9), (2, 1), (3, 12), (4, 9), (5, 10), (6, 14), (7, 7), (8, 12), (9, 11)]\n"
          ]
        }
      ]
    }
  ]
}